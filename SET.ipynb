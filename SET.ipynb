{
 "cells": [
  {
   "cell_type": "code",
   "execution_count": 13,
   "id": "1144736b",
   "metadata": {},
   "outputs": [
    {
     "name": "stdout",
     "output_type": "stream",
     "text": [
      "{'Green', 'Black', 'Yellow', 'Red', 'Blue', 'Orange'}\n"
     ]
    }
   ],
   "source": [
    "#Exercise 1: Add a list of elements to a set\n",
    "#Given a Python list, Write a program to add all its elements into a given set.\n",
    "\n",
    "sample_set = {\"Yellow\", \"Orange\", \"Black\"}\n",
    "sample_list = [\"Blue\", \"Green\", \"Red\"]\n",
    "\n",
    "sample_combine = sample_set.union(sample_list)\n",
    "\n",
    "print(sample_combine)"
   ]
  },
  {
   "cell_type": "code",
   "execution_count": 14,
   "id": "546eab99",
   "metadata": {},
   "outputs": [
    {
     "name": "stdout",
     "output_type": "stream",
     "text": [
      "{40, 50, 30}\n"
     ]
    }
   ],
   "source": [
    "#Exercise 2: Return a new set of identical items from two sets Given:\n",
    "\n",
    "set1 = {10, 20, 30, 40, 50}\n",
    "set2 = {30, 40, 50, 60, 70}\n",
    "set12 = set1 & set2\n",
    "\n",
    "print(set12)"
   ]
  },
  {
   "cell_type": "code",
   "execution_count": 15,
   "id": "c9d08f1f",
   "metadata": {},
   "outputs": [
    {
     "name": "stdout",
     "output_type": "stream",
     "text": [
      "{70, 40, 10, 50, 20, 60, 30}\n"
     ]
    }
   ],
   "source": [
    "#Exercise 3: Get Only unique items from two sets\n",
    "#Write a Python program to return a new set with unique items from both sets by removing duplicates. Given:\n",
    "\n",
    "set1 = {10, 20, 30, 40, 50}\n",
    "set2 = {30, 40, 50, 60, 70}\n",
    "\n",
    "set1_2 = set1 | set2\n",
    "\n",
    "print(set1_2)"
   ]
  },
  {
   "cell_type": "code",
   "execution_count": 16,
   "id": "7da875ba",
   "metadata": {},
   "outputs": [
    {
     "name": "stdout",
     "output_type": "stream",
     "text": [
      "{10, 30}\n"
     ]
    }
   ],
   "source": [
    "#Exercise 4: Update the first set with items that don’t exist in the second set\n",
    "#Given two Python sets, write a Python program to update the first set with items\n",
    "#that exist only in the first set and not in the second set. Given:\n",
    "\n",
    "set1 = {10, 20, 30}\n",
    "set2 = {20, 40, 50}\n",
    "\n",
    "set_1_2 = set1 - set2\n",
    "\n",
    "print(set_1_2)"
   ]
  },
  {
   "cell_type": "code",
   "execution_count": 19,
   "id": "b748067a",
   "metadata": {},
   "outputs": [
    {
     "name": "stdout",
     "output_type": "stream",
     "text": [
      "{40, 50}\n"
     ]
    }
   ],
   "source": [
    "#Exercise 5: Remove items from the set at once\n",
    "#Write a Python program to remove items 10, 20, 30 from the following set at once. Given:\n",
    "\n",
    "set1 = {10, 20, 30, 40, 50}\n",
    "set2 = {10,20,30}\n",
    "new_set = set1 ^ set2\n",
    "\n",
    "print(new_set)"
   ]
  },
  {
   "cell_type": "code",
   "execution_count": 20,
   "id": "12537d0c",
   "metadata": {},
   "outputs": [
    {
     "name": "stdout",
     "output_type": "stream",
     "text": [
      "{20, 70, 10, 60}\n"
     ]
    }
   ],
   "source": [
    "#Exercise 6: Return a set of elements present in Set A or B, but not both. Given:\n",
    "\n",
    "set1 = {10, 20, 30, 40, 50}\n",
    "set2 = {30, 40, 50, 60, 70}\n",
    "\n",
    "set12 = set1^set2\n",
    "\n",
    "print(set12)"
   ]
  },
  {
   "cell_type": "code",
   "execution_count": 41,
   "id": "1aa8945b",
   "metadata": {},
   "outputs": [
    {
     "name": "stdout",
     "output_type": "stream",
     "text": [
      "{10}\n"
     ]
    }
   ],
   "source": [
    "#Exercise 7: Check if two sets have any elements in common. If yes, display the common elements. Given:\n",
    "\n",
    "set1 = {10, 20, 30, 40, 50}\n",
    "set2 = {60, 70, 80, 90, 10}\n",
    "\n",
    "set12 = set1.intersection(set2)\n",
    "\n",
    "print(set12)"
   ]
  },
  {
   "cell_type": "code",
   "execution_count": 42,
   "id": "dc570322",
   "metadata": {},
   "outputs": [
    {
     "name": "stdout",
     "output_type": "stream",
     "text": [
      "{70, 10, 20, 60}\n"
     ]
    }
   ],
   "source": [
    "#Exercise 8: Update set1 by adding items from set2, except common items. Given:\n",
    "\n",
    "set1 = {10, 20, 30, 40, 50}\n",
    "set2 = {30, 40, 50, 60, 70}\n",
    "set1.symmetric_difference_update(set2)\n",
    "\n",
    "print(set1)"
   ]
  },
  {
   "cell_type": "code",
   "execution_count": 45,
   "id": "a4321b4d",
   "metadata": {},
   "outputs": [
    {
     "data": {
      "text/plain": [
       "{30, 40, 50}"
      ]
     },
     "execution_count": 45,
     "metadata": {},
     "output_type": "execute_result"
    }
   ],
   "source": [
    "#Exercise 9: Remove items from set1 that are not common to both set1 and set2. Given:\n",
    "\n",
    "set1 = {10, 20, 30, 40, 50}\n",
    "set2 = {30, 40, 50, 60, 70}\n",
    "\n",
    "set1.intersection_update(set2)\n",
    "set1"
   ]
  },
  {
   "cell_type": "code",
   "execution_count": null,
   "id": "fdbd4387",
   "metadata": {},
   "outputs": [],
   "source": []
  }
 ],
 "metadata": {
  "kernelspec": {
   "display_name": "Python 3",
   "language": "python",
   "name": "python3"
  },
  "language_info": {
   "codemirror_mode": {
    "name": "ipython",
    "version": 3
   },
   "file_extension": ".py",
   "mimetype": "text/x-python",
   "name": "python",
   "nbconvert_exporter": "python",
   "pygments_lexer": "ipython3",
   "version": "3.8.8"
  }
 },
 "nbformat": 4,
 "nbformat_minor": 5
}
